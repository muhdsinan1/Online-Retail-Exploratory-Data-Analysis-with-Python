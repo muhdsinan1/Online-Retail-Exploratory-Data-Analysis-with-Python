{
 "cells": [
  {
   "cell_type": "markdown",
   "metadata": {},
   "source": [
    "# Portfolio Project: Online Retail Exploratory Data Analysis with Python"
   ]
  },
  {
   "cell_type": "markdown",
   "metadata": {},
   "source": [
    "## Overview\n",
    "\n",
    "In this project, you will step into the shoes of an entry-level data analyst at an online retail company, helping interpret real-world data to help make a key business decision."
   ]
  },
  {
   "cell_type": "markdown",
   "metadata": {},
   "source": [
    "## Case Study\n",
    "In this project, you will be working with transactional data from an online retail store. The dataset contains information about customer purchases, including product details, quantities, prices, and timestamps. Your task is to explore and analyze this dataset to gain insights into the store's sales trends, customer behavior, and popular products. \n",
    "\n",
    "By conducting exploratory data analysis, you will identify patterns, outliers, and correlations in the data, allowing you to make data-driven decisions and recommendations to optimize the store's operations and improve customer satisfaction. Through visualizations and statistical analysis, you will uncover key trends, such as the busiest sales months, best-selling products, and the store's most valuable customers. Ultimately, this project aims to provide actionable insights that can drive strategic business decisions and enhance the store's overall performance in the competitive online retail market.\n",
    "\n",
    "## Prerequisites\n",
    "\n",
    "Before starting this project, you should have some basic knowledge of Python programming and Pandas. In addition, you may want to use the following packages in your Python environment:\n",
    "\n",
    "- pandas\n",
    "- numpy\n",
    "- seaborn\n",
    "- matplotlib\n",
    "\n",
    "These packages should already be installed in Coursera's Jupyter Notebook environment, however if you'd like to install additional packages that are not included in this environment or are working off platform you can install additional packages using `!pip install packagename` within a notebook cell such as:\n",
    "\n",
    "- `!pip install pandas`\n",
    "- `!pip install matplotlib`"
   ]
  },
  {
   "cell_type": "markdown",
   "metadata": {},
   "source": [
    "## Project Objectives\n",
    "1. Describe data to answer key questions to uncover insights\n",
    "2. Gain valuable insights that will help improve online retail performance\n",
    "3. Provide analytic insights and data-driven recommendations"
   ]
  },
  {
   "cell_type": "markdown",
   "metadata": {},
   "source": [
    "## Dataset\n",
    "\n",
    "The dataset you will be working with is the \"Online Retail\" dataset. It contains transactional data of an online retail store from 2010 to 2011. The dataset is available as a .xlsx file named `Online Retail.xlsx`. This data file is already included in the Coursera Jupyter Notebook environment, however if you are working off-platform it can also be downloaded [here](https://archive.ics.uci.edu/ml/machine-learning-databases/00352/Online%20Retail.xlsx).\n",
    "\n",
    "The dataset contains the following columns:\n",
    "\n",
    "- InvoiceNo: Invoice number of the transaction\n",
    "- StockCode: Unique code of the product\n",
    "- Description: Description of the product\n",
    "- Quantity: Quantity of the product in the transaction\n",
    "- InvoiceDate: Date and time of the transaction\n",
    "- UnitPrice: Unit price of the product\n",
    "- CustomerID: Unique identifier of the customer\n",
    "- Country: Country where the transaction occurred"
   ]
  },
  {
   "cell_type": "markdown",
   "metadata": {},
   "source": [
    "## Tasks\n",
    "\n",
    "You may explore this dataset in any way you would like - however if you'd like some help getting started, here are a few ideas:\n",
    "\n",
    "1. Load the dataset into a Pandas DataFrame and display the first few rows to get an overview of the data.\n",
    "2. Perform data cleaning by handling missing values, if any, and removing any redundant or unnecessary columns.\n",
    "3. Explore the basic statistics of the dataset, including measures of central tendency and dispersion.\n",
    "4. Perform data visualization to gain insights into the dataset. Generate appropriate plots, such as histograms, scatter plots, or bar plots, to visualize different aspects of the data.\n",
    "5. Analyze the sales trends over time. Identify the busiest months and days of the week in terms of sales.\n",
    "6. Explore the top-selling products and countries based on the quantity sold.\n",
    "7. Identify any outliers or anomalies in the dataset and discuss their potential impact on the analysis.\n",
    "8. Draw conclusions and summarize your findings from the exploratory data analysis."
   ]
  },
  {
   "cell_type": "markdown",
   "metadata": {},
   "source": [
    "## Task 1: Load the Data"
   ]
  },
  {
   "cell_type": "code",
   "execution_count": 3,
   "metadata": {},
   "outputs": [],
   "source": [
    "import pandas as pd\n",
    "import seaborn as sns\n",
    "import matplotlib.pyplot as plt"
   ]
  },
  {
   "cell_type": "code",
   "execution_count": 4,
   "metadata": {},
   "outputs": [
    {
     "name": "stdout",
     "output_type": "stream",
     "text": [
      "  InvoiceNo StockCode                          Description  Quantity  \\\n",
      "0    536365    85123A   WHITE HANGING HEART T-LIGHT HOLDER         6   \n",
      "1    536365     71053                  WHITE METAL LANTERN         6   \n",
      "2    536365    84406B       CREAM CUPID HEARTS COAT HANGER         8   \n",
      "3    536365    84029G  KNITTED UNION FLAG HOT WATER BOTTLE         6   \n",
      "4    536365    84029E       RED WOOLLY HOTTIE WHITE HEART.         6   \n",
      "\n",
      "          InvoiceDate  UnitPrice  CustomerID         Country  \n",
      "0 2010-12-01 08:26:00       2.55     17850.0  United Kingdom  \n",
      "1 2010-12-01 08:26:00       3.39     17850.0  United Kingdom  \n",
      "2 2010-12-01 08:26:00       2.75     17850.0  United Kingdom  \n",
      "3 2010-12-01 08:26:00       3.39     17850.0  United Kingdom  \n",
      "4 2010-12-01 08:26:00       3.39     17850.0  United Kingdom  \n"
     ]
    }
   ],
   "source": [
    "data = pd.read_excel(\"Online Retail.xlsx\")\n",
    "print(data.head())"
   ]
  },
  {
   "cell_type": "code",
   "execution_count": 5,
   "metadata": {},
   "outputs": [
    {
     "name": "stdout",
     "output_type": "stream",
     "text": [
      "       InvoiceNo StockCode                      Description  Quantity  \\\n",
      "541904    581587     22613      PACK OF 20 SPACEBOY NAPKINS        12   \n",
      "541905    581587     22899     CHILDREN'S APRON DOLLY GIRL          6   \n",
      "541906    581587     23254    CHILDRENS CUTLERY DOLLY GIRL          4   \n",
      "541907    581587     23255  CHILDRENS CUTLERY CIRCUS PARADE         4   \n",
      "541908    581587     22138    BAKING SET 9 PIECE RETROSPOT          3   \n",
      "\n",
      "               InvoiceDate  UnitPrice  CustomerID Country  \n",
      "541904 2011-12-09 12:50:00       0.85     12680.0  France  \n",
      "541905 2011-12-09 12:50:00       2.10     12680.0  France  \n",
      "541906 2011-12-09 12:50:00       4.15     12680.0  France  \n",
      "541907 2011-12-09 12:50:00       4.15     12680.0  France  \n",
      "541908 2011-12-09 12:50:00       4.95     12680.0  France  \n"
     ]
    }
   ],
   "source": [
    "print(data.tail())"
   ]
  },
  {
   "cell_type": "markdown",
   "metadata": {},
   "source": [
    "# task 2: Perform data cleaning"
   ]
  },
  {
   "cell_type": "code",
   "execution_count": 4,
   "metadata": {},
   "outputs": [
    {
     "name": "stdout",
     "output_type": "stream",
     "text": [
      "InvoiceNo      541909\n",
      "StockCode      541909\n",
      "Description    540455\n",
      "Quantity       541909\n",
      "InvoiceDate    541909\n",
      "UnitPrice      541909\n",
      "CustomerID     406829\n",
      "Country        541909\n",
      "dtype: int64\n"
     ]
    }
   ],
   "source": [
    "print(data.count())"
   ]
  },
  {
   "cell_type": "code",
   "execution_count": 5,
   "metadata": {},
   "outputs": [
    {
     "name": "stdout",
     "output_type": "stream",
     "text": [
      "InvoiceNo           0\n",
      "StockCode           0\n",
      "Description      1454\n",
      "Quantity            0\n",
      "InvoiceDate         0\n",
      "UnitPrice           0\n",
      "CustomerID     135080\n",
      "Country             0\n",
      "dtype: int64\n"
     ]
    }
   ],
   "source": [
    "print(data.isnull().sum())"
   ]
  },
  {
   "cell_type": "code",
   "execution_count": 6,
   "metadata": {},
   "outputs": [],
   "source": [
    "data_clean=data.dropna(axis = 1)"
   ]
  },
  {
   "cell_type": "code",
   "execution_count": 7,
   "metadata": {},
   "outputs": [
    {
     "name": "stdout",
     "output_type": "stream",
     "text": [
      "InvoiceNo      541909\n",
      "StockCode      541909\n",
      "Description    540455\n",
      "Quantity       541909\n",
      "InvoiceDate    541909\n",
      "UnitPrice      541909\n",
      "CustomerID     406829\n",
      "Country        541909\n",
      "dtype: int64\n"
     ]
    }
   ],
   "source": [
    "print(data.count())"
   ]
  },
  {
   "cell_type": "markdown",
   "metadata": {},
   "source": [
    "# task 3: find central tendency and dispersion\n"
   ]
  },
  {
   "cell_type": "code",
   "execution_count": 8,
   "metadata": {},
   "outputs": [
    {
     "name": "stdout",
     "output_type": "stream",
     "text": [
      "            Quantity      UnitPrice     CustomerID\n",
      "count  541909.000000  541909.000000  406829.000000\n",
      "mean        9.552250       4.611114   15287.690570\n",
      "std       218.081158      96.759853    1713.600303\n",
      "min    -80995.000000  -11062.060000   12346.000000\n",
      "25%         1.000000       1.250000   13953.000000\n",
      "50%         3.000000       2.080000   15152.000000\n",
      "75%        10.000000       4.130000   16791.000000\n",
      "max     80995.000000   38970.000000   18287.000000\n"
     ]
    }
   ],
   "source": [
    "summary = data.describe()\n",
    "print(summary)"
   ]
  },
  {
   "cell_type": "markdown",
   "metadata": {},
   "source": [
    "# Central tendency-Mean ,Median and Mode\n"
   ]
  },
  {
   "cell_type": "code",
   "execution_count": 9,
   "metadata": {},
   "outputs": [
    {
     "name": "stdout",
     "output_type": "stream",
     "text": [
      "9.55224954743324\n",
      "4.611113626083471\n"
     ]
    }
   ],
   "source": [
    "mean_Quantity=data[\"Quantity\"].mean()\n",
    "print(mean_Quantity)\n",
    "mean_UnitPrice=data[\"UnitPrice\"].mean()\n",
    "print(mean_UnitPrice)"
   ]
  },
  {
   "cell_type": "code",
   "execution_count": 10,
   "metadata": {},
   "outputs": [
    {
     "name": "stdout",
     "output_type": "stream",
     "text": [
      "9.55224954743324\n",
      "4.611113626083471\n"
     ]
    }
   ],
   "source": [
    "median_Quantity=data[\"Quantity\"].median()\n",
    "print(mean_Quantity)\n",
    "median_UnitPrice=data[\"UnitPrice\"].median()\n",
    "print(mean_UnitPrice)"
   ]
  },
  {
   "cell_type": "code",
   "execution_count": 11,
   "metadata": {},
   "outputs": [
    {
     "name": "stdout",
     "output_type": "stream",
     "text": [
      "1\n",
      "1.25\n"
     ]
    }
   ],
   "source": [
    "mode_Quantity = data[\"Quantity\"].mode().iloc[0]\n",
    "print(mode_Quantity)\n",
    "mode_UnitPrice = data[\"UnitPrice\"].mode().iloc[0]\n",
    "print(mode_UnitPrice)"
   ]
  },
  {
   "cell_type": "markdown",
   "metadata": {},
   "source": [
    "# Dispersion - Quantity,UnitPrice"
   ]
  },
  {
   "cell_type": "code",
   "execution_count": 12,
   "metadata": {},
   "outputs": [
    {
     "name": "stdout",
     "output_type": "stream",
     "text": [
      "161990\n",
      "50032.06\n"
     ]
    }
   ],
   "source": [
    "range_Quantity = data[\"Quantity\"].max() - data[\"Quantity\"].min()\n",
    "print(range_Quantity)\n",
    "range_UnitPrice = data[\"UnitPrice\"].max() - data[\"UnitPrice\"].min()\n",
    "print(range_UnitPrice)\n"
   ]
  },
  {
   "cell_type": "code",
   "execution_count": 13,
   "metadata": {},
   "outputs": [
    {
     "name": "stdout",
     "output_type": "stream",
     "text": [
      "47559.39140913822\n",
      "9362.469164424467\n"
     ]
    }
   ],
   "source": [
    "variance_values_Quantity=data[\"Quantity\"].var()\n",
    "print(variance_values_Quantity)\n",
    "variance_values_UnitPrice=data[\"UnitPrice\"].var()\n",
    "print(variance_values_UnitPrice)\n"
   ]
  },
  {
   "cell_type": "code",
   "execution_count": 14,
   "metadata": {},
   "outputs": [
    {
     "name": "stdout",
     "output_type": "stream",
     "text": [
      "218.08115784986612\n",
      "96.75985306119716\n"
     ]
    }
   ],
   "source": [
    "std_deviation_Quantity = data[\"Quantity\"].std()\n",
    "print(std_deviation_Quantity)\n",
    "std_deviation_UnitPrice = data[\"UnitPrice\"].std()\n",
    "print(std_deviation_UnitPrice)\n"
   ]
  },
  {
   "cell_type": "code",
   "execution_count": 15,
   "metadata": {},
   "outputs": [
    {
     "name": "stdout",
     "output_type": "stream",
     "text": [
      "9.0\n"
     ]
    }
   ],
   "source": [
    "q1 = data[\"Quantity\"].quantile(0.25)\n",
    "q2 = data[\"Quantity\"].quantile(0.50)\n",
    "q3 = data[\"Quantity\"].quantile(0.75)\n",
    "\n",
    "iqr = q3 - q1\n",
    "print(iqr)"
   ]
  },
  {
   "cell_type": "code",
   "execution_count": 16,
   "metadata": {},
   "outputs": [
    {
     "name": "stdout",
     "output_type": "stream",
     "text": [
      "2.88\n"
     ]
    }
   ],
   "source": [
    "q1 = data[\"UnitPrice\"].quantile(0.25)\n",
    "q2 = data[\"UnitPrice\"].quantile(0.50)\n",
    "q3 = data[\"UnitPrice\"].quantile(0.75)\n",
    "\n",
    "iqr = q3 - q1\n",
    "print(iqr)"
   ]
  },
  {
   "cell_type": "markdown",
   "metadata": {},
   "source": [
    "   # task 4: Perform data visualization to gain insights into the dataset"
   ]
  },
  {
   "cell_type": "code",
   "execution_count": 17,
   "metadata": {},
   "outputs": [
    {
     "data": {
      "image/png": "[encoded data removed]",
      "text/plain": [
       "<Figure size 432x288 with 1 Axes>"
      ]
     },
     "metadata": {
      "needs_background": "light"
     },
     "output_type": "display_data"
    },
    {
     "data": {
      "image/png": "[encoded data removed]",
      "text/plain": [
       "<Figure size 432x288 with 1 Axes>"
      ]
     },
     "metadata": {
      "needs_background": "light"
     },
     "output_type": "display_data"
    }
   ],
   "source": [
    "plt.hist(data['Quantity'], bins=30, color='skyblue')\n",
    "plt.xlabel('Quantity')\n",
    "plt.ylabel('Frequency')\n",
    "plt.title('Distribution of  Quantity')\n",
    "plt.show()\n",
    "\n",
    "plt.hist(data['UnitPrice'], bins=30, color='salmon')\n",
    "plt.xlabel('UnitPrice')\n",
    "plt.ylabel('Frequency')\n",
    "plt.title('Distribution of  Unit Price')\n",
    "plt.show()"
   ]
  },
  {
   "cell_type": "code",
   "execution_count": 18,
   "metadata": {},
   "outputs": [
    {
     "data": {
      "image/png": "[encoded data removed]",
      "text/plain": [
       "<Figure size 720x432 with 1 Axes>"
      ]
     },
     "metadata": {
      "needs_background": "light"
     },
     "output_type": "display_data"
    }
   ],
   "source": [
    "country_counts = data['Country'].value_counts()\n",
    "plt.figure(figsize=(10,6))\n",
    "country_counts.plot(kind='bar', color='green')\n",
    "plt.xlabel('Country')\n",
    "plt.ylabel('Number of Transactions')\n",
    "plt.title('Number of  Transactions by Country')\n",
    "plt.xticks(rotation=45)\n",
    "plt.show()"
   ]
  },
  {
   "cell_type": "code",
   "execution_count": 19,
   "metadata": {},
   "outputs": [
    {
     "data": {
      "image/png": "[encoded data removed]",
      "text/plain": [
       "<Figure size 432x288 with 1 Axes>"
      ]
     },
     "metadata": {
      "needs_background": "light"
     },
     "output_type": "display_data"
    }
   ],
   "source": [
    "plt.scatter(data['Quantity'],data['UnitPrice'],color='red',alpha=0.5)\n",
    "plt.xlabel('Quantity')\n",
    "plt.ylabel('Unit Price')\n",
    "plt.title('Quantity vs. Unit Price')\n",
    "plt.show()"
   ]
  },
  {
   "cell_type": "markdown",
   "metadata": {},
   "source": [
    "  # task 5: identity the busiest  months and days of the week in terms of sales"
   ]
  },
  {
   "cell_type": "code",
   "execution_count": 20,
   "metadata": {},
   "outputs": [
    {
     "name": "stdout",
     "output_type": "stream",
     "text": [
      "Busiest Month: 11\n",
      "busiest_day_of_week 3\n"
     ]
    }
   ],
   "source": [
    "data['Month']=data['InvoiceDate'].dt.month\n",
    "data['DayOfWeek'] = data['InvoiceDate'].dt.dayofweek\n",
    "\n",
    "monthly_sales=data.groupby('Month')['Quantity'].sum()\n",
    "\n",
    "busiest_month =  monthly_sales.idxmax()\n",
    "daily_sales=data.groupby('DayOfWeek')['Quantity'].sum()\n",
    "\n",
    "busiest_day_of_week =daily_sales.idxmax()\n",
    "print(\"Busiest Month:\",busiest_month)\n",
    "print(\"busiest_day_of_week\",busiest_day_of_week)"
   ]
  },
  {
   "cell_type": "markdown",
   "metadata": {},
   "source": [
    "# task 6:Explore the  top-selling products and countries based on the quantity solid.\n"
   ]
  },
  {
   "cell_type": "code",
   "execution_count": 21,
   "metadata": {},
   "outputs": [
    {
     "name": "stdout",
     "output_type": "stream",
     "text": [
      "  InvoiceNo StockCode                          Description  Quantity  \\\n",
      "0    536365    85123A   WHITE HANGING HEART T-LIGHT HOLDER         6   \n",
      "1    536365     71053                  WHITE METAL LANTERN         6   \n",
      "2    536365    84406B       CREAM CUPID HEARTS COAT HANGER         8   \n",
      "3    536365    84029G  KNITTED UNION FLAG HOT WATER BOTTLE         6   \n",
      "4    536365    84029E       RED WOOLLY HOTTIE WHITE HEART.         6   \n",
      "\n",
      "          InvoiceDate  UnitPrice  CustomerID         Country  Month  DayOfWeek  \n",
      "0 2010-12-01 08:26:00       2.55     17850.0  United Kingdom     12          2  \n",
      "1 2010-12-01 08:26:00       3.39     17850.0  United Kingdom     12          2  \n",
      "2 2010-12-01 08:26:00       2.75     17850.0  United Kingdom     12          2  \n",
      "3 2010-12-01 08:26:00       3.39     17850.0  United Kingdom     12          2  \n",
      "4 2010-12-01 08:26:00       3.39     17850.0  United Kingdom     12          2  \n"
     ]
    }
   ],
   "source": [
    "print(data.head())"
   ]
  },
  {
   "cell_type": "code",
   "execution_count": 22,
   "metadata": {},
   "outputs": [
    {
     "name": "stdout",
     "output_type": "stream",
     "text": [
      "Top_selling_products: \n",
      "Description\n",
      "WORLD WAR 2 GLIDERS ASSTD DESIGNS    53847\n",
      "JUMBO BAG RED RETROSPOT              47363\n",
      "ASSORTED COLOUR BIRD ORNAMENT        36381\n",
      "POPCORN HOLDER                       36334\n",
      "PACK OF 72 RETROSPOT CAKE CASES      36039\n",
      "                                     ...  \n",
      "Damaged                              -7540\n",
      "Printing smudges/thrown away         -9058\n",
      "check                               -12030\n",
      "Unsaleable, destroyed.              -15644\n",
      "printing smudges/thrown away        -19200\n",
      "Name: Quantity, Length: 4223, dtype: int64\n",
      "\n",
      "Top Product : WORLD WAR 2 GLIDERS ASSTD DESIGNS\n",
      "\n",
      "Top-Selling Countries : \n",
      "Description\n",
      "HOT WATER BOTTLE KEEP CALM         UnspecifiedUnited KingdomUnited KingdomUnited ...\n",
      "PINK ROUND COMPACT MIRROR          United KingdomUnited KingdomUnspecifiedUnited ...\n",
      "VINTAGE GLASS T-LIGHT HOLDER       United KingdomUnited KingdomUnited KingdomUnsp...\n",
      "PARTY CHARMS 50 PIECES             United KingdomUnited KingdomUnited KingdomUnsp...\n",
      "ASSORTED SANSKRIT MINI NOTEBOOK    United KingdomUnited KingdomUnited KingdomUnit...\n",
      "Name: Country, dtype: object\n"
     ]
    }
   ],
   "source": [
    "top_selling_products=data.groupby('Description')['Quantity'].sum().sort_values(ascending=False)\n",
    "top_selling_product=top_selling_products.idxmax()\n",
    "print(\"Top_selling_products: \")\n",
    "print(top_selling_products)\n",
    "print(f\"\\nTop Product : {top_selling_product}\")\n",
    "print()\n",
    "top_selling_countries=data.groupby(\"Description\")[\"Country\"].sum().sort_values(ascending=False)\n",
    "print(\"Top-Selling Countries : \")\n",
    "print(top_selling_countries.head(5))\n"
   ]
  },
  {
   "cell_type": "markdown",
   "metadata": {},
   "source": [
    "# Task7:identify any outilers or anomalies in the dataset and discuss their potential impact on the analysis."
   ]
  },
  {
   "cell_type": "code",
   "execution_count": 23,
   "metadata": {},
   "outputs": [
    {
     "data": {
      "text/plain": [
       "Text(0.5, 1.0, 'Box plot for UnitPrice')"
      ]
     },
     "execution_count": 23,
     "metadata": {},
     "output_type": "execute_result"
    },
    {
     "data": {
      "image/png": "[encoded data removed]",
      "text/plain": [
       "<Figure size 864x432 with 1 Axes>"
      ]
     },
     "metadata": {
      "needs_background": "light"
     },
     "output_type": "display_data"
    },
    {
     "data": {
      "image/png": "[encoded data removed]",
      "text/plain": [
       "<Figure size 864x432 with 1 Axes>"
      ]
     },
     "metadata": {
      "needs_background": "light"
     },
     "output_type": "display_data"
    }
   ],
   "source": [
    "plt.figure(figsize=(12,6))\n",
    "sns.boxplot(data['Quantity'])\n",
    "plt.title('Box plot for Quantity')\n",
    "\n",
    "plt.figure(figsize=(12,6))\n",
    "sns.boxplot(data['UnitPrice'])\n",
    "plt.title('Box plot for UnitPrice')"
   ]
  },
  {
   "cell_type": "code",
   "execution_count": 28,
   "metadata": {},
   "outputs": [
    {
     "name": "stdout",
     "output_type": "stream",
     "text": [
      "Outliers in Quantity :        InvoiceNo StockCode                         Description  Quantity  \\\n",
      "9         536367     84879       ASSORTED COLOUR BIRD ORNAMENT        32   \n",
      "26        536370     22728           ALARM CLOCK BAKELIKE PINK        24   \n",
      "27        536370     22727           ALARM CLOCK BAKELIKE RED         24   \n",
      "30        536370     21883                    STARS GIFT TAPE         24   \n",
      "31        536370     10002         INFLATABLE POLITICAL GLOBE         48   \n",
      "...          ...       ...                                 ...       ...   \n",
      "541876    581585     84945  MULTI COLOUR SILVER T-LIGHT HOLDER        24   \n",
      "541882    581585     21916     SET 12 RETRO WHITE CHALK STICKS        24   \n",
      "541883    581585     84692         BOX OF 24 COCKTAIL PARASOLS        25   \n",
      "541891    581586     23275    SET OF 3 HANGING OWLS OLLIE BEAK        24   \n",
      "541892    581586     21217       RED RETROSPOT ROUND CAKE TINS        24   \n",
      "\n",
      "               InvoiceDate  UnitPrice  CustomerID         Country  Month  \\\n",
      "9      2010-12-01 08:34:00       1.69     13047.0  United Kingdom     12   \n",
      "26     2010-12-01 08:45:00       3.75     12583.0          France     12   \n",
      "27     2010-12-01 08:45:00       3.75     12583.0          France     12   \n",
      "30     2010-12-01 08:45:00       0.65     12583.0          France     12   \n",
      "31     2010-12-01 08:45:00       0.85     12583.0          France     12   \n",
      "...                    ...        ...         ...             ...    ...   \n",
      "541876 2011-12-09 12:31:00       0.85     15804.0  United Kingdom     12   \n",
      "541882 2011-12-09 12:31:00       0.42     15804.0  United Kingdom     12   \n",
      "541883 2011-12-09 12:31:00       0.42     15804.0  United Kingdom     12   \n",
      "541891 2011-12-09 12:49:00       1.25     13113.0  United Kingdom     12   \n",
      "541892 2011-12-09 12:49:00       8.95     13113.0  United Kingdom     12   \n",
      "\n",
      "        DayOfWeek  \n",
      "9               2  \n",
      "26              2  \n",
      "27              2  \n",
      "30              2  \n",
      "31              2  \n",
      "...           ...  \n",
      "541876          4  \n",
      "541882          4  \n",
      "541883          4  \n",
      "541891          4  \n",
      "541892          4  \n",
      "\n",
      "[58619 rows x 10 columns]\n",
      "\n",
      "Outliers in UnitPrice :        InvoiceNo StockCode                      Description  Quantity  \\\n",
      "16        536367     22622   BOX OF VINTAGE ALPHABET BLOCKS         2   \n",
      "45        536370      POST                          POSTAGE         3   \n",
      "65        536374     21258       VICTORIAN SEWING BOX LARGE        32   \n",
      "141      C536379         D                         Discount        -1   \n",
      "151       536382     22839  3 TIER CAKE TIN GREEN AND CREAM         2   \n",
      "...          ...       ...                              ...       ...   \n",
      "541768    581578      POST                          POSTAGE         3   \n",
      "541786    581578     22622   BOX OF VINTAGE ALPHABET BLOCKS         6   \n",
      "541831    581579     22941     CHRISTMAS LIGHTS 10 REINDEER         4   \n",
      "541849    581580     22894    TABLECLOTH RED APPLES DESIGN          2   \n",
      "541892    581586     21217    RED RETROSPOT ROUND CAKE TINS        24   \n",
      "\n",
      "               InvoiceDate  UnitPrice  CustomerID         Country  Month  \\\n",
      "16     2010-12-01 08:34:00       9.95     13047.0  United Kingdom     12   \n",
      "45     2010-12-01 08:45:00      18.00     12583.0          France     12   \n",
      "65     2010-12-01 09:09:00      10.95     15100.0  United Kingdom     12   \n",
      "141    2010-12-01 09:41:00      27.50     14527.0  United Kingdom     12   \n",
      "151    2010-12-01 09:45:00      14.95     16098.0  United Kingdom     12   \n",
      "...                    ...        ...         ...             ...    ...   \n",
      "541768 2011-12-09 12:16:00      18.00     12713.0         Germany     12   \n",
      "541786 2011-12-09 12:16:00      11.95     12713.0         Germany     12   \n",
      "541831 2011-12-09 12:19:00       8.50     17581.0  United Kingdom     12   \n",
      "541849 2011-12-09 12:20:00       9.95     12748.0  United Kingdom     12   \n",
      "541892 2011-12-09 12:49:00       8.95     13113.0  United Kingdom     12   \n",
      "\n",
      "        DayOfWeek  \n",
      "16              2  \n",
      "45              2  \n",
      "65              2  \n",
      "141             2  \n",
      "151             2  \n",
      "...           ...  \n",
      "541768          4  \n",
      "541786          4  \n",
      "541831          4  \n",
      "541849          4  \n",
      "541892          4  \n",
      "\n",
      "[39627 rows x 10 columns]\n"
     ]
    }
   ],
   "source": [
    "Q1 = data['Quantity'].quantile(0.25)\n",
    "Q3 = data['Quantity'].quantile(0.75)\n",
    "IQR = Q3 - Q1\n",
    "\n",
    "lower_bound = Q1 - 1.5 * IQR\n",
    "upper_bound = Q3 + 1.5 * IQR\n",
    "\n",
    "outliers_quantity= data[(data['Quantity'] <  lower_bound) | (data['Quantity']> upper_bound)]\n",
    "\n",
    "Q1 =data['UnitPrice'].quantile(0.25)\n",
    "Q3 =data['UnitPrice'].quantile(0.75)\n",
    "IQR = Q3 - Q1\n",
    "\n",
    "\n",
    "lower_bound=Q1 - 1.5 * IQR\n",
    "upper_bound=Q3 + 1.5 * IQR\n",
    "\n",
    "outliers_unitprice = data[(data['UnitPrice']< lower_bound)|(data['UnitPrice']> upper_bound)]\n",
    "print(f\"Outliers in Quantity : {outliers_quantity}\")\n",
    "print(f\"\\nOutliers in UnitPrice : {outliers_unitprice}\")\n",
    "\n"
   ]
  },
  {
   "cell_type": "markdown",
   "metadata": {},
   "source": [
    "# Task 8:Draw conclusions and summarize your findings from the  exploratory data analysis."
   ]
  },
  {
   "cell_type": "code",
   "execution_count": 29,
   "metadata": {},
   "outputs": [
    {
     "name": "stdout",
     "output_type": "stream",
     "text": [
      ">>>Conclusion<<<\n",
      "Using Python for Exploratory data analysis makes easy to find the mean ,median and modes using the pandas library..\n",
      "It becomes very easy to visualize the  data in different types of graphs such as in histograms , Scatter plots and  in bar plots\n",
      "Standard Deviation and variations can also be performed as pandas library as enriched with built in functions for\n",
      " data analysis.\n",
      ">>>>Summer<<<<\n",
      "firstly we have checked for any missing values and  removed the missing values.\n",
      "By analysis the sales trends over time we have come to know about busiest month busiest days of week which \n",
      "was in  3 - wednesday\n"
     ]
    }
   ],
   "source": [
    "print(\">>>Conclusion<<<\")\n",
    "print(\"Using Python for Exploratory data analysis makes easy to find the mean ,median and modes using the pandas library..\\nIt becomes very easy to visualize the  data in different types of graphs such as in histograms , Scatter plots and  in bar plots\")\n",
    "print(\"Standard Deviation and variations can also be performed as pandas library as enriched with built in functions for\\n data analysis.\")\n",
    "print(\">>>>Summer<<<<\")\n",
    "print(\"firstly we have checked for any missing values and  removed the missing values.\")\n",
    "print(\"By analysis the sales trends over time we have come to know about busiest month busiest days of week which \\nwas in  3 - wednesday\")"
   ]
  },
  {
   "cell_type": "markdown",
   "metadata": {},
   "source": []
  },
  {
   "cell_type": "code",
   "execution_count": null,
   "metadata": {},
   "outputs": [],
   "source": []
  }
 ],
 "metadata": {
  "kernelspec": {
   "display_name": "Python 3",
   "language": "python",
   "name": "python3"
  },
  "language_info": {
   "codemirror_mode": {
    "name": "ipython",
    "version": 3
   },
   "file_extension": ".py",
   "mimetype": "text/x-python",
   "name": "python",
   "nbconvert_exporter": "python",
   "pygments_lexer": "ipython3",
   "version": "3.7.6"
  }
 },
 "nbformat": 4,
 "nbformat_minor": 4
}
